{
  "nbformat": 4,
  "nbformat_minor": 0,
  "metadata": {
    "colab": {
      "name": "Water drinking app .ipynb",
      "provenance": [],
      "collapsed_sections": [],
      "authorship_tag": "ABX9TyPed6IpnGIXfSCQBP6OHJe3",
      "include_colab_link": true
    },
    "kernelspec": {
      "name": "python3",
      "display_name": "Python 3"
    },
    "language_info": {
      "name": "python"
    }
  },
  "cells": [
    {
      "cell_type": "markdown",
      "metadata": {
        "id": "view-in-github",
        "colab_type": "text"
      },
      "source": [
        "<a href=\"https://colab.research.google.com/github/Andrew-Ochagla/Andrew-Ochagla/blob/main/Water_drinking_app_.ipynb\" target=\"_parent\"><img src=\"https://colab.research.google.com/assets/colab-badge.svg\" alt=\"Open In Colab\"/></a>"
      ]
    },
    {
      "cell_type": "code",
      "execution_count": 5,
      "metadata": {
        "colab": {
          "base_uri": "https://localhost:8080/"
        },
        "id": "Ol_Tx5J4THtP",
        "outputId": "efea3ebe-2cbd-4be5-8013-5c33ca898c66"
      },
      "outputs": [
        {
          "output_type": "stream",
          "name": "stdout",
          "text": [
            "Looking in indexes: https://pypi.org/simple, https://us-python.pkg.dev/colab-wheels/public/simple/\n",
            "Requirement already satisfied: plyer in /usr/local/lib/python3.7/dist-packages (2.0.0)\n"
          ]
        }
      ],
      "source": [
        "import time\n",
        "!pip install plyer\n",
        "\n",
        "from plyer import notification\n",
        "\n"
      ]
    },
    {
      "cell_type": "code",
      "source": [
        "import time\n",
        "from plyer import notification\n",
        "\n",
        "if __name__==\"__mamin__\":\n",
        "  notification.notify(\n",
        "      \n",
        "      app_name = \"drinkify\",\n",
        "      title = \"Please drink water !!\",\n",
        "      message = \"Water is good for your body!\",\n",
        "\n",
        "      timeout = \"2\"\n",
        "\n",
        "\n",
        "  )\n",
        "\n",
        "  time.sleep(60*60) #it will notify every hour\n",
        "\n",
        "  \n"
      ],
      "metadata": {
        "id": "CA5dkR4YWFQ5"
      },
      "execution_count": 10,
      "outputs": []
    }
  ]
}